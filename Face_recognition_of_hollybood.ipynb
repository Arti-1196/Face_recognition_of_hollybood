{
 "cells": [
  {
   "cell_type": "code",
   "execution_count": 1,
   "id": "9b9de8d4-5370-4b39-abbe-f3c5e0b27ea7",
   "metadata": {},
   "outputs": [
    {
     "ename": "ModuleNotFoundError",
     "evalue": "No module named 'face_recognition'",
     "output_type": "error",
     "traceback": [
      "\u001b[1;31m---------------------------------------------------------------------------\u001b[0m",
      "\u001b[1;31mModuleNotFoundError\u001b[0m                       Traceback (most recent call last)",
      "\u001b[1;32mC:\\Users\\ARTIMA~1\\AppData\\Local\\Temp/ipykernel_10564/109740145.py\u001b[0m in \u001b[0;36m<module>\u001b[1;34m\u001b[0m\n\u001b[0;32m      1\u001b[0m \u001b[1;32mimport\u001b[0m \u001b[0mcv2\u001b[0m\u001b[1;33m\u001b[0m\u001b[1;33m\u001b[0m\u001b[0m\n\u001b[1;32m----> 2\u001b[1;33m \u001b[1;32mimport\u001b[0m \u001b[0mface_recognition\u001b[0m\u001b[1;33m\u001b[0m\u001b[1;33m\u001b[0m\u001b[0m\n\u001b[0m",
      "\u001b[1;31mModuleNotFoundError\u001b[0m: No module named 'face_recognition'"
     ]
    }
   ],
   "source": [
    "import cv2\n",
    "import face_recognition"
   ]
  },
  {
   "cell_type": "code",
   "execution_count": null,
   "id": "e7d4ad1f-eabb-4ea4-89c0-5d9f75c0699e",
   "metadata": {},
   "outputs": [],
   "source": [
    "path = r'C:\\Users\\ArtiMarthak\\Downloads\\cv\\data\\people\\Shailene-Woodley_2.jpg'\n",
    "img = cv2.imread(path)\n",
    "rgb = cv2.cvtColor(img,cv2.COLOR_BGR2RGB)\n",
    "img = face_recognition.face_encodings(rgb)[0]"
   ]
  },
  {
   "cell_type": "code",
   "execution_count": null,
   "id": "06a8c7da-1194-4b20-bfc4-485da20dc9c8",
   "metadata": {},
   "outputs": [],
   "source": [
    "path = r'C:\\Users\\ArtiMarthak\\Downloads\\cv\\data\\people\\Shailene-Woodley_2.jpg'\n",
    "img = cv2.imread(path)\n",
    "rgb = cv2.cvtColor(img,cv2.COLOR_BGR2RGB)\n",
    "img2 = face_recognition.face_encodings(rgb)[0]"
   ]
  },
  {
   "cell_type": "code",
   "execution_count": null,
   "id": "beb1fe29-e251-4fbd-901d-87ce9255e891",
   "metadata": {},
   "outputs": [],
   "source": [
    "result = face_recognition.compare_faces([img],img2)\n",
    "print('result',result)"
   ]
  },
  {
   "cell_type": "code",
   "execution_count": null,
   "id": "23ec44ea-19c6-45c4-8df5-b6075aec5429",
   "metadata": {},
   "outputs": [],
   "source": [
    "cv2.imshow('img:',img)\n",
    "cv2.imshow('img:',img2)\n",
    "cv2.waitKey(0)"
   ]
  }
 ],
 "metadata": {
  "kernelspec": {
   "display_name": "Python 3 (ipykernel)",
   "language": "python",
   "name": "python3"
  },
  "language_info": {
   "codemirror_mode": {
    "name": "ipython",
    "version": 3
   },
   "file_extension": ".py",
   "mimetype": "text/x-python",
   "name": "python",
   "nbconvert_exporter": "python",
   "pygments_lexer": "ipython3",
   "version": "3.9.7"
  }
 },
 "nbformat": 4,
 "nbformat_minor": 5
}
