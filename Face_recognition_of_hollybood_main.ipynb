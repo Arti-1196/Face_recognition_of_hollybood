{
 "cells": [
  {
   "cell_type": "code",
   "execution_count": 1,
   "id": "17e5d78f-4772-48a8-966f-5445ef5590c1",
   "metadata": {},
   "outputs": [],
   "source": [
    "import cv2"
   ]
  },
  {
   "cell_type": "code",
   "execution_count": 2,
   "id": "cadf70a5-1826-4fa4-8067-e0875c0b1f20",
   "metadata": {},
   "outputs": [
    {
     "ename": "NameError",
     "evalue": "name 'SimpleFacerec' is not defined",
     "output_type": "error",
     "traceback": [
      "\u001b[1;31m---------------------------------------------------------------------------\u001b[0m",
      "\u001b[1;31mNameError\u001b[0m                                 Traceback (most recent call last)",
      "\u001b[1;32mC:\\Users\\ARTIMA~1\\AppData\\Local\\Temp/ipykernel_4212/794081913.py\u001b[0m in \u001b[0;36m<module>\u001b[1;34m\u001b[0m\n\u001b[0;32m      1\u001b[0m \u001b[1;31m#encode faces from a folder\u001b[0m\u001b[1;33m\u001b[0m\u001b[1;33m\u001b[0m\u001b[0m\n\u001b[1;32m----> 2\u001b[1;33m \u001b[0msfr\u001b[0m \u001b[1;33m=\u001b[0m \u001b[0mSimpleFacerec\u001b[0m\u001b[1;33m(\u001b[0m\u001b[1;33m)\u001b[0m\u001b[1;33m\u001b[0m\u001b[1;33m\u001b[0m\u001b[0m\n\u001b[0m\u001b[0;32m      3\u001b[0m \u001b[0mpath\u001b[0m \u001b[1;33m=\u001b[0m \u001b[1;34mr'C:\\Users\\ArtiMarthak\\Downloads\\cv\\data\\people\\Shailene-Woodley_2.jpg'\u001b[0m\u001b[1;33m\u001b[0m\u001b[1;33m\u001b[0m\u001b[0m\n\u001b[0;32m      4\u001b[0m \u001b[0msfr\u001b[0m\u001b[1;33m.\u001b[0m\u001b[0mload_encoding_images\u001b[0m\u001b[1;33m(\u001b[0m\u001b[0mpath\u001b[0m\u001b[1;33m)\u001b[0m\u001b[1;33m\u001b[0m\u001b[1;33m\u001b[0m\u001b[0m\n",
      "\u001b[1;31mNameError\u001b[0m: name 'SimpleFacerec' is not defined"
     ]
    }
   ],
   "source": [
    "#encode faces from a folder\n",
    "sfr = SimpleFacerec()\n",
    "path = r'C:\\Users\\ArtiMarthak\\Downloads\\cv\\data\\people\\Shailene-Woodley_2.jpg'\n",
    "sfr.load_encoding_images(path)"
   ]
  },
  {
   "cell_type": "code",
   "execution_count": null,
   "id": "0e679fee-51c6-4af3-920b-093493e57bf2",
   "metadata": {},
   "outputs": [],
   "source": [
    "cap = cv2.VideoCapture(2)"
   ]
  },
  {
   "cell_type": "code",
   "execution_count": null,
   "id": "4b5e51c6-b16f-4c49-a3b3-714b348713dc",
   "metadata": {},
   "outputs": [],
   "source": [
    "while True:\n",
    "    ret,frame = cap.read()\n",
    "    \n",
    "    #detect face\n",
    "    face_location,face_names = sfr.detect_known_faces(frame)\n",
    "    for face_loc,name in zip(face_location,face_names):\n",
    "        print('face_loc',face_loc)\n",
    "        \n",
    "        y1,x1,y2,x2 = face_loc[0],face_loc[1],face_loc[3]\n",
    "        \n",
    "        cv2.putText(frame,name,(x1,y1,-10),cv2.FONT_HERSHEY_DUPLEX,1,(0,0,200),2)\n",
    "        cv2.rectangle(frame,(x1,y1),(x2,y2),(0,0,200),4)\n",
    "    cv2.imshow('frame:',frame)\n",
    "    key = cv2.waitKey(1)\n",
    "    \n",
    "    if key == 27:\n",
    "        break\n",
    "        \n",
    "cap.release()\n",
    "cv2.destroyAllWindows()"
   ]
  }
 ],
 "metadata": {
  "kernelspec": {
   "display_name": "Python 3 (ipykernel)",
   "language": "python",
   "name": "python3"
  },
  "language_info": {
   "codemirror_mode": {
    "name": "ipython",
    "version": 3
   },
   "file_extension": ".py",
   "mimetype": "text/x-python",
   "name": "python",
   "nbconvert_exporter": "python",
   "pygments_lexer": "ipython3",
   "version": "3.9.7"
  }
 },
 "nbformat": 4,
 "nbformat_minor": 5
}
